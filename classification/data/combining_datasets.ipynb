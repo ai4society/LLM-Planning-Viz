{
 "cells": [
  {
   "cell_type": "markdown",
   "id": "a3d5861a-3173-4498-8a48-715c943d54b3",
   "metadata": {},
   "source": [
    "The original dataset has multilabels in that the titles are repeated but with different categories, so this script combines them into single entries with multiple categories.\n",
    "\n",
    "This notebook reads the dataset, groups papers by exact title, aggregates each title's category values into a deduplicated list, keeps the first occurrence of link, authors, year, and abstract, and writes the result to combined_data_original.csv.\n"
   ]
  },
  {
   "cell_type": "code",
   "execution_count": 1,
   "id": "021a1657-019a-4b33-9649-8f7501eb336c",
   "metadata": {},
   "outputs": [],
   "source": [
    "import pandas as pd"
   ]
  },
  {
   "cell_type": "code",
   "execution_count": 14,
   "id": "95f1031d-f714-4190-8dcd-26013d5400cd",
   "metadata": {},
   "outputs": [
    {
     "data": {
      "text/html": [
       "<div>\n",
       "<style scoped>\n",
       "    .dataframe tbody tr th:only-of-type {\n",
       "        vertical-align: middle;\n",
       "    }\n",
       "\n",
       "    .dataframe tbody tr th {\n",
       "        vertical-align: top;\n",
       "    }\n",
       "\n",
       "    .dataframe thead th {\n",
       "        text-align: right;\n",
       "    }\n",
       "</style>\n",
       "<table border=\"1\" class=\"dataframe\">\n",
       "  <thead>\n",
       "    <tr style=\"text-align: right;\">\n",
       "      <th></th>\n",
       "      <th>title</th>\n",
       "      <th>category</th>\n",
       "      <th>link</th>\n",
       "      <th>authors</th>\n",
       "      <th>year</th>\n",
       "      <th>abstract</th>\n",
       "    </tr>\n",
       "  </thead>\n",
       "  <tbody>\n",
       "    <tr>\n",
       "      <th>0</th>\n",
       "      <td>Llm+ p: Empowering large language models with ...</td>\n",
       "      <td>language-translation</td>\n",
       "      <td>https://arxiv.org/abs/2304.11477</td>\n",
       "      <td>Liu, Bo and Jiang, Yuqian and Zhang, Xiaohan a...</td>\n",
       "      <td>2023</td>\n",
       "      <td>Large language models (LLMs) have demonstrated...</td>\n",
       "    </tr>\n",
       "    <tr>\n",
       "      <th>1</th>\n",
       "      <td>Translating natural language to planning goals...</td>\n",
       "      <td>language-translation</td>\n",
       "      <td>https://arxiv.org/abs/2302.05128</td>\n",
       "      <td>Xie, Yaqi and Yu, Chen and Zhu, Tongyao and Ba...</td>\n",
       "      <td>2023</td>\n",
       "      <td>Recent large language models (LLMs) have demon...</td>\n",
       "    </tr>\n",
       "  </tbody>\n",
       "</table>\n",
       "</div>"
      ],
      "text/plain": [
       "                                               title              category  \\\n",
       "0  Llm+ p: Empowering large language models with ...  language-translation   \n",
       "1  Translating natural language to planning goals...  language-translation   \n",
       "\n",
       "                               link  \\\n",
       "0  https://arxiv.org/abs/2304.11477   \n",
       "1  https://arxiv.org/abs/2302.05128   \n",
       "\n",
       "                                             authors  year  \\\n",
       "0  Liu, Bo and Jiang, Yuqian and Zhang, Xiaohan a...  2023   \n",
       "1  Xie, Yaqi and Yu, Chen and Zhu, Tongyao and Ba...  2023   \n",
       "\n",
       "                                            abstract  \n",
       "0  Large language models (LLMs) have demonstrated...  \n",
       "1  Recent large language models (LLMs) have demon...  "
      ]
     },
     "execution_count": 14,
     "metadata": {},
     "output_type": "execute_result"
    }
   ],
   "source": [
    "df = pd.read_json(\"../data/updated_papers_data.json\")\n",
    "df.head(2)"
   ]
  },
  {
   "cell_type": "code",
   "execution_count": null,
   "id": "1795823a-0788-45e3-b7b1-fbfc65bc9aee",
   "metadata": {},
   "outputs": [],
   "source": [
    "# Group by 'title' and aggregate the 'category' column, joining multiple categories into a list\n",
    "combined_df = (\n",
    "    df.groupby(\"title\")\n",
    "    .agg(\n",
    "        {\n",
    "            \"category\": lambda x: list(\n",
    "                set(x)\n",
    "            ),  # Convert to set first to remove duplicates, then back to list\n",
    "            \"link\": \"first\",  # Keep the first occurrence of link for each title\n",
    "            \"authors\": \"first\",  # Keep the first occurrence of authors for each title\n",
    "            \"year\": \"first\",  # Keep the first occurrence of year for each title\n",
    "            \"abstract\": \"first\",  # Keep the first occurrence of year for each title\n",
    "        }\n",
    "    )\n",
    "    .reset_index()\n",
    ")"
   ]
  },
  {
   "cell_type": "code",
   "execution_count": 16,
   "id": "44193b5e-71a1-4479-9f59-e79f7fe5f976",
   "metadata": {},
   "outputs": [
    {
     "data": {
      "text/plain": [
       "category\n",
       "[plan-generation]                                                 41\n",
       "[interactive-planning]                                            15\n",
       "[language-translation]                                            13\n",
       "[model-construction]                                              10\n",
       "[tool-integration]                                                 8\n",
       "[brain-inspired-planning]                                          5\n",
       "[multiagent-planning]                                              5\n",
       "[plan-generation, interactive-planning]                            5\n",
       "[language-translation, model-construction]                         5\n",
       "[heuristics-optimization]                                          4\n",
       "[language-translation, plan-generation]                            3\n",
       "[plan-generation, heuristics-optimization]                         2\n",
       "[language-translation, interactive-planning]                       1\n",
       "[language-translation, heuristics-optimization]                    1\n",
       "[plan-generation, model-construction, heuristics-optimization]     1\n",
       "[plan-generation, model-construction]                              1\n",
       "Name: count, dtype: int64"
      ]
     },
     "execution_count": 16,
     "metadata": {},
     "output_type": "execute_result"
    }
   ],
   "source": [
    "combined_df.category.value_counts()"
   ]
  },
  {
   "cell_type": "code",
   "execution_count": null,
   "id": "eeccbb90-cd6c-4e0a-b4b8-32403e2eb821",
   "metadata": {},
   "outputs": [],
   "source": [
    "combined_df.to_csv(\"combined_data_original.csv\", index=False)"
   ]
  }
 ],
 "metadata": {
  "kernelspec": {
   "display_name": "Python 3 (ipykernel)",
   "language": "python",
   "name": "python3"
  },
  "language_info": {
   "codemirror_mode": {
    "name": "ipython",
    "version": 3
   },
   "file_extension": ".py",
   "mimetype": "text/x-python",
   "name": "python",
   "nbconvert_exporter": "python",
   "pygments_lexer": "ipython3",
   "version": "3.8.18"
  }
 },
 "nbformat": 4,
 "nbformat_minor": 5
}

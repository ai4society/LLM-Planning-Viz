{
 "cells": [
  {
   "cell_type": "markdown",
   "id": "02fdfe0a",
   "metadata": {},
   "source": [
    "# Transformers-based Classification (Single Label)\n",
    "\n",
    "This notebook implements transformer-based models to classify research papers into categories based on their titles and abstracts. It uses the combined dataset of existing categorized papers and new papers for training and evaluation.\n"
   ]
  },
  {
   "cell_type": "markdown",
   "id": "eee5a0b7-c80d-4341-a41c-8d143465fcfe",
   "metadata": {},
   "source": [
    "Key Assumptions:\n",
    "\n",
    "1. Most Frequent Category Selection: We assume that taking the most frequent category is the best way to convert multi-label to single-label. This might not always be true as some papers could have equally important categories.\n",
    "2. Label Encoding: We assume that all categories in both old and new datasets should be part of the label encoder's classes. This might cause issues if:\n",
    "\n",
    "- New categories appear in the test set that weren't in training\n",
    "- Some categories have very few examples (especially the one with single instance you mentioned)\n",
    "\n",
    "3. Class Balance: While we use StratifiedShuffleSplit, we don't address the fundamental class imbalance issue. This could be particularly problematic for categories with very few examples.\n",
    "4. Text Length: We assume a max_length of 512 tokens, which might truncate longer papers.\n",
    "   Model Architecture: We're using a simple classification head (Linear + LogSoftmax) and assuming this is sufficient for the task.\n"
   ]
  },
  {
   "cell_type": "code",
   "execution_count": 42,
   "id": "initial_id",
   "metadata": {
    "ExecuteTime": {
     "end_time": "2024-10-26T17:58:06.280489Z",
     "start_time": "2024-10-26T17:58:02.829601Z"
    }
   },
   "outputs": [],
   "source": [
    "import torch\n",
    "from transformers import AutoTokenizer, AutoModel\n",
    "from torch.utils.data import Dataset, DataLoader\n",
    "from sklearn.metrics import classification_report\n",
    "from sklearn.feature_extraction.text import TfidfVectorizer\n",
    "from sklearn.preprocessing import LabelEncoder\n",
    "from sklearn.model_selection import StratifiedShuffleSplit\n",
    "from ast import literal_eval\n",
    "from tqdm import tqdm\n",
    "from sklearn.metrics import accuracy_score, precision_recall_fscore_support\n",
    "\n",
    "import pandas as pd\n",
    "import numpy as np\n",
    "import matplotlib.pyplot as plt\n",
    "import seaborn as sns\n",
    "import random\n",
    "import scipy"
   ]
  },
  {
   "cell_type": "markdown",
   "id": "71ff8573-727f-48f9-b30b-7f7a2558e621",
   "metadata": {},
   "source": [
    "## Data Loading & Preprocessing\n"
   ]
  },
  {
   "cell_type": "code",
   "execution_count": null,
   "id": "f94321f2-4b72-4eb9-a0cb-01c943b63f9a",
   "metadata": {},
   "outputs": [
    {
     "data": {
      "text/html": [
       "<div>\n",
       "<style scoped>\n",
       "    .dataframe tbody tr th:only-of-type {\n",
       "        vertical-align: middle;\n",
       "    }\n",
       "\n",
       "    .dataframe tbody tr th {\n",
       "        vertical-align: top;\n",
       "    }\n",
       "\n",
       "    .dataframe thead th {\n",
       "        text-align: right;\n",
       "    }\n",
       "</style>\n",
       "<table border=\"1\" class=\"dataframe\">\n",
       "  <thead>\n",
       "    <tr style=\"text-align: right;\">\n",
       "      <th></th>\n",
       "      <th>title</th>\n",
       "      <th>category</th>\n",
       "      <th>link</th>\n",
       "      <th>authors</th>\n",
       "      <th>year</th>\n",
       "      <th>abstract</th>\n",
       "    </tr>\n",
       "  </thead>\n",
       "  <tbody>\n",
       "    <tr>\n",
       "      <th>0</th>\n",
       "      <td>A Framework to Generate Neurosymbolic PDDL-com...</td>\n",
       "      <td>['plan-generation']</td>\n",
       "      <td>https://arxiv.org/abs/2303.00438</td>\n",
       "      <td>Capitanelli, Alessio and Mastrogiovanni, Fulvio</td>\n",
       "      <td>2023</td>\n",
       "      <td>Symbolic task planning is a widely used approa...</td>\n",
       "    </tr>\n",
       "    <tr>\n",
       "      <th>1</th>\n",
       "      <td>A Prefrontal Cortex-inspired Architecture for ...</td>\n",
       "      <td>['brain-inspired-planning']</td>\n",
       "      <td>https://arxiv.org/abs/2310.00194</td>\n",
       "      <td>Webb, Taylor and Mondal, Shanka Subhra and Wan...</td>\n",
       "      <td>2023</td>\n",
       "      <td>Large language models (LLMs) demonstrate impre...</td>\n",
       "    </tr>\n",
       "  </tbody>\n",
       "</table>\n",
       "</div>"
      ],
      "text/plain": [
       "                                               title  \\\n",
       "0  A Framework to Generate Neurosymbolic PDDL-com...   \n",
       "1  A Prefrontal Cortex-inspired Architecture for ...   \n",
       "\n",
       "                      category                              link  \\\n",
       "0          ['plan-generation']  https://arxiv.org/abs/2303.00438   \n",
       "1  ['brain-inspired-planning']  https://arxiv.org/abs/2310.00194   \n",
       "\n",
       "                                             authors  year  \\\n",
       "0    Capitanelli, Alessio and Mastrogiovanni, Fulvio  2023   \n",
       "1  Webb, Taylor and Mondal, Shanka Subhra and Wan...  2023   \n",
       "\n",
       "                                            abstract  \n",
       "0  Symbolic task planning is a widely used approa...  \n",
       "1  Large language models (LLMs) demonstrate impre...  "
      ]
     },
     "execution_count": 2,
     "metadata": {},
     "output_type": "execute_result"
    }
   ],
   "source": [
    "# Load the existing categorized papers (after post-processing)\n",
    "df_existing = pd.read_csv(\"../data/combined_data_original.csv\")\n",
    "df_existing.head(2)"
   ]
  },
  {
   "cell_type": "code",
   "execution_count": null,
   "id": "c36e87d9-ddcd-4567-9986-d70addb12e0e",
   "metadata": {},
   "outputs": [
    {
     "data": {
      "text/html": [
       "<div>\n",
       "<style scoped>\n",
       "    .dataframe tbody tr th:only-of-type {\n",
       "        vertical-align: middle;\n",
       "    }\n",
       "\n",
       "    .dataframe tbody tr th {\n",
       "        vertical-align: top;\n",
       "    }\n",
       "\n",
       "    .dataframe thead th {\n",
       "        text-align: right;\n",
       "    }\n",
       "</style>\n",
       "<table border=\"1\" class=\"dataframe\">\n",
       "  <thead>\n",
       "    <tr style=\"text-align: right;\">\n",
       "      <th></th>\n",
       "      <th>Title</th>\n",
       "      <th>Authors</th>\n",
       "      <th>Published Date</th>\n",
       "      <th>Abstract</th>\n",
       "      <th>URL</th>\n",
       "      <th>Categories</th>\n",
       "      <th>Comments</th>\n",
       "    </tr>\n",
       "  </thead>\n",
       "  <tbody>\n",
       "    <tr>\n",
       "      <th>0</th>\n",
       "      <td>LASP: Surveying the State-of-the-Art in Large ...</td>\n",
       "      <td>Haoming Li, Zhaoliang Chen, Jonathan Zhang, Fe...</td>\n",
       "      <td>2024-09-03</td>\n",
       "      <td>Effective planning is essential for the succes...</td>\n",
       "      <td>http://arxiv.org/abs/2409.01806v1</td>\n",
       "      <td>Plan Generation, Goal Decomposition</td>\n",
       "      <td>Survey paper</td>\n",
       "    </tr>\n",
       "    <tr>\n",
       "      <th>1</th>\n",
       "      <td>Planetarium: A Rigorous Benchmark for Translat...</td>\n",
       "      <td>Max Zuo, Francisco Piedrahita Velez, Xiaochen ...</td>\n",
       "      <td>2024-07-03</td>\n",
       "      <td>Many recent works have explored using language...</td>\n",
       "      <td>http://arxiv.org/abs/2407.03321v1</td>\n",
       "      <td>Language Translation</td>\n",
       "      <td>NaN</td>\n",
       "    </tr>\n",
       "  </tbody>\n",
       "</table>\n",
       "</div>"
      ],
      "text/plain": [
       "                                               Title  \\\n",
       "0  LASP: Surveying the State-of-the-Art in Large ...   \n",
       "1  Planetarium: A Rigorous Benchmark for Translat...   \n",
       "\n",
       "                                             Authors Published Date  \\\n",
       "0  Haoming Li, Zhaoliang Chen, Jonathan Zhang, Fe...     2024-09-03   \n",
       "1  Max Zuo, Francisco Piedrahita Velez, Xiaochen ...     2024-07-03   \n",
       "\n",
       "                                            Abstract  \\\n",
       "0  Effective planning is essential for the succes...   \n",
       "1  Many recent works have explored using language...   \n",
       "\n",
       "                                 URL                           Categories  \\\n",
       "0  http://arxiv.org/abs/2409.01806v1  Plan Generation, Goal Decomposition   \n",
       "1  http://arxiv.org/abs/2407.03321v1                 Language Translation   \n",
       "\n",
       "       Comments  \n",
       "0  Survey paper  \n",
       "1           NaN  "
      ]
     },
     "execution_count": 3,
     "metadata": {},
     "output_type": "execute_result"
    }
   ],
   "source": [
    "# Load the new papers (CSV format)\n",
    "df_new = pd.read_csv(\"../data/newer_all_arxiv_papers_20240925_171114.csv\")\n",
    "df_new.head(2)"
   ]
  },
  {
   "cell_type": "code",
   "execution_count": 4,
   "id": "a278aefe-2458-40ff-a436-0d451e2ff177",
   "metadata": {
    "scrolled": true
   },
   "outputs": [],
   "source": [
    "# Pre-processing: remove problematic rows\n",
    "df_new.drop(df_new.index[[11, 48, 49]], inplace=True)\n",
    "df_new.reset_index(drop=True, inplace=True)"
   ]
  },
  {
   "cell_type": "code",
   "execution_count": null,
   "id": "f1d2bda9-aa9c-4634-9fe0-754dfec9d808",
   "metadata": {},
   "outputs": [],
   "source": [
    "# Modify the standardize_categories function to return the most frequent category\n",
    "def standardize_categories(categories):\n",
    "    if isinstance(categories, str):\n",
    "        if categories.startswith(\"[\"):\n",
    "            categories = literal_eval(categories)\n",
    "        elif categories == \"-\":\n",
    "            return None\n",
    "        else:\n",
    "            categories = [cat.strip() for cat in categories.split(\",\")]\n",
    "\n",
    "    # Standardize category names\n",
    "    standardized = [cat.lower().replace(\" \", \"-\") for cat in categories]\n",
    "\n",
    "    # Return the most frequent category\n",
    "    if standardized:\n",
    "        return max(set(standardized), key=standardized.count)\n",
    "    return None"
   ]
  },
  {
   "cell_type": "code",
   "execution_count": null,
   "id": "212f56af-7828-42c6-85e6-41623869aa88",
   "metadata": {},
   "outputs": [],
   "source": [
    "# Combine title and abstract for feature extraction\n",
    "df_existing[\"text\"] = df_existing[\"title\"] + \" \" + df_existing[\"abstract\"]\n",
    "df_new[\"text\"] = df_new[\"Title\"] + \" \" + df_new[\"Abstract\"]"
   ]
  },
  {
   "cell_type": "code",
   "execution_count": null,
   "id": "76bb2245-c8e3-4d01-a00c-3d4d53dd7628",
   "metadata": {},
   "outputs": [],
   "source": [
    "# Standardize categories and select most frequent one\n",
    "df_existing[\"category\"] = df_existing[\"category\"].apply(standardize_categories)\n",
    "df_new[\"Categories\"] = df_new[\"Categories\"].apply(standardize_categories)"
   ]
  },
  {
   "cell_type": "code",
   "execution_count": null,
   "id": "6effb976-45f6-4091-93de-7cd273609494",
   "metadata": {},
   "outputs": [],
   "source": [
    "def generate_distribution(df, cat, title):\n",
    "    # Plot the distribution of categories\n",
    "    plt.figure(figsize=(6, 3))\n",
    "    sns.countplot(y=cat, data=df, order=df[cat].value_counts().index)\n",
    "    plt.title(title)\n",
    "    plt.xlabel(\"Count\")\n",
    "    plt.ylabel(\"Category\")\n",
    "    plt.show()"
   ]
  },
  {
   "cell_type": "code",
   "execution_count": null,
   "id": "6ec0888f-e851-461d-ac91-e89ac0a4fb7e",
   "metadata": {},
   "outputs": [
    {
     "data": {
      "image/png": "[encoded data removed]",
      "text/plain": [
       "<Figure size 600x300 with 1 Axes>"
      ]
     },
     "metadata": {},
     "output_type": "display_data"
    }
   ],
   "source": [
    "generate_distribution(df_existing, \"category\", \"Distribution of Categories For D_0\")"
   ]
  },
  {
   "cell_type": "code",
   "execution_count": null,
   "id": "eca0cf58-779a-4791-a9ed-db2f38091322",
   "metadata": {},
   "outputs": [
    {
     "data": {
      "image/png": "[encoded data removed]",
      "text/plain": [
       "<Figure size 600x300 with 1 Axes>"
      ]
     },
     "metadata": {},
     "output_type": "display_data"
    }
   ],
   "source": [
    "generate_distribution(df_new, \"Categories\", \"Distribution of Categories for D_1\")"
   ]
  },
  {
   "cell_type": "markdown",
   "id": "e282efbd-0573-4363-891b-7c9345b67f7c",
   "metadata": {},
   "source": [
    "<br>\n"
   ]
  },
  {
   "cell_type": "markdown",
   "id": "ab2fce04-2930-418e-9438-b8348d754a00",
   "metadata": {},
   "source": [
    "## Create Features\n"
   ]
  },
  {
   "cell_type": "code",
   "execution_count": null,
   "id": "f4c4e018-8c9c-4bfa-b7f5-77d4c594c46b",
   "metadata": {},
   "outputs": [],
   "source": [
    "# Create features\n",
    "vectorizer = TfidfVectorizer(max_features=5000, stop_words=\"english\")\n",
    "X_old = vectorizer.fit_transform(df_existing[\"text\"])\n",
    "X_new = vectorizer.transform(df_new[\"text\"])"
   ]
  },
  {
   "cell_type": "code",
   "execution_count": 22,
   "id": "f91771ad-f691-45ba-a4bd-a6219c7259fd",
   "metadata": {},
   "outputs": [],
   "source": [
    "# Convert sparse matrix to array for iterative stratification\n",
    "X_old_array = X_old.toarray()"
   ]
  },
  {
   "cell_type": "code",
   "execution_count": null,
   "id": "546086fb-ed63-4a49-9c17-5dd05d8eefe1",
   "metadata": {},
   "outputs": [],
   "source": [
    "# Initialize label encoder\n",
    "le = LabelEncoder()\n",
    "y_old = le.fit_transform(df_existing[\"category\"])"
   ]
  },
  {
   "cell_type": "code",
   "execution_count": 24,
   "id": "9589bfd0-d7f6-40e2-95c5-a343f49c4fc1",
   "metadata": {},
   "outputs": [],
   "source": [
    "# Transform new data categories, handling unseen labels\n",
    "def transform_labels(labels, le):\n",
    "    new_labels = []\n",
    "    for label in labels:\n",
    "        if label in le.classes_:\n",
    "            new_labels.append(le.transform([label])[0])\n",
    "        else:\n",
    "            new_labels.append(-1)  # Use -1 for unseen categories\n",
    "    return np.array(new_labels)"
   ]
  },
  {
   "cell_type": "code",
   "execution_count": null,
   "id": "e42f8659-2eca-4466-b6f0-23158f87cf8b",
   "metadata": {},
   "outputs": [],
   "source": [
    "y_new = transform_labels(df_new[\"Categories\"], le)"
   ]
  },
  {
   "cell_type": "code",
   "execution_count": 26,
   "id": "6f52135a-97d5-470d-bc64-0a05590be486",
   "metadata": {},
   "outputs": [],
   "source": [
    "# Replace MultilabelStratifiedShuffleSplit with StratifiedShuffleSplit\n",
    "sss = StratifiedShuffleSplit(n_splits=1, test_size=0.2, random_state=42)\n",
    "\n",
    "for train_idx, test_idx in sss.split(X_old_array, y_old):\n",
    "    X_train = X_old[train_idx]\n",
    "    X_test = X_old[test_idx]\n",
    "    y_train = y_old[train_idx]\n",
    "    y_test = y_old[test_idx]"
   ]
  },
  {
   "cell_type": "code",
   "execution_count": 27,
   "id": "1a479c2f-e4c9-465c-b780-99c554182232",
   "metadata": {},
   "outputs": [
    {
     "name": "stdout",
     "output_type": "stream",
     "text": [
      "Training set shape: (96, 2974)\n",
      "Test set shape: (24, 2974)\n"
     ]
    }
   ],
   "source": [
    "# Print some information about the split\n",
    "print(f\"Training set shape: {X_train.shape}\")\n",
    "print(f\"Test set shape: {X_test.shape}\")"
   ]
  },
  {
   "cell_type": "markdown",
   "id": "ccfaeff8-f91f-44b4-97b5-4a4df06f941b",
   "metadata": {},
   "source": [
    "## Train, Evaluate, and Test Model\n"
   ]
  },
  {
   "cell_type": "code",
   "execution_count": null,
   "id": "8f492d97-4f59-4b5e-9a34-9aa19698e815",
   "metadata": {},
   "outputs": [],
   "source": [
    "def set_seed(seed):\n",
    "    \"\"\"Set all seeds to make results reproducible (deterministic mode).\n",
    "    When seed is a false-y value or not supplied, disables deterministic mode.\"\"\"\n",
    "    random.seed(seed)\n",
    "    np.random.seed(seed)\n",
    "    torch.manual_seed(seed)\n",
    "    torch.cuda.manual_seed_all(seed)\n",
    "    torch.backends.cudnn.deterministic = True\n",
    "\n",
    "\n",
    "seed = 472\n",
    "set_seed(seed)"
   ]
  },
  {
   "cell_type": "code",
   "execution_count": null,
   "id": "dc32f16f-adbf-4fdb-bd3d-466e472cbff5",
   "metadata": {},
   "outputs": [],
   "source": [
    "class PaperDataset(Dataset):\n",
    "    def __init__(self, texts, tokenizer, max_length=512):\n",
    "        self.texts = texts\n",
    "        self.tokenizer = tokenizer\n",
    "        self.max_length = max_length\n",
    "\n",
    "    def __len__(self):\n",
    "        return len(self.texts)\n",
    "\n",
    "    def __getitem__(self, idx):\n",
    "        text = str(self.texts[idx])\n",
    "        encoding = self.tokenizer(\n",
    "            text,\n",
    "            max_length=self.max_length,\n",
    "            padding=\"max_length\",\n",
    "            truncation=True,\n",
    "            return_tensors=\"pt\",\n",
    "        )\n",
    "        return {\n",
    "            \"input_ids\": encoding[\"input_ids\"].squeeze(),\n",
    "            \"attention_mask\": encoding[\"attention_mask\"].squeeze(),\n",
    "        }"
   ]
  },
  {
   "cell_type": "code",
   "execution_count": null,
   "id": "d31fbd53-ae9e-4cea-940e-5bdc1f17eda0",
   "metadata": {},
   "outputs": [],
   "source": [
    "class TransformerClassifier:\n",
    "    def __init__(\n",
    "        self,\n",
    "        model_name,\n",
    "        num_labels,\n",
    "        device=\"cuda\" if torch.cuda.is_available() else \"cpu\",\n",
    "    ):\n",
    "        self.device = device\n",
    "        self.model_name = model_name\n",
    "        self.num_labels = num_labels\n",
    "\n",
    "        self.tokenizer = AutoTokenizer.from_pretrained(model_name)\n",
    "        self.base_model = AutoModel.from_pretrained(model_name).to(device)\n",
    "\n",
    "        # Freeze the transformer parameters\n",
    "        for param in self.base_model.parameters():\n",
    "            param.requires_grad = False\n",
    "\n",
    "        # Modified classifier for single-label classification\n",
    "        self.classifier = torch.nn.Sequential(\n",
    "            torch.nn.Linear(self.base_model.config.hidden_size, num_labels),\n",
    "            torch.nn.LogSoftmax(dim=1),\n",
    "        ).to(device)\n",
    "\n",
    "    def get_embeddings(self, texts, batch_size=8):\n",
    "        dataset = PaperDataset(texts, self.tokenizer)\n",
    "        dataloader = DataLoader(dataset, batch_size=batch_size, shuffle=False)\n",
    "\n",
    "        all_embeddings = []\n",
    "\n",
    "        self.base_model.eval()\n",
    "        with torch.no_grad():\n",
    "            for batch in tqdm(dataloader, desc=\"Getting embeddings\"):\n",
    "                input_ids = batch[\"input_ids\"].to(self.device)\n",
    "                attention_mask = batch[\"attention_mask\"].to(self.device)\n",
    "\n",
    "                outputs = self.base_model(\n",
    "                    input_ids=input_ids, attention_mask=attention_mask\n",
    "                )\n",
    "\n",
    "                # Use [CLS] token embedding\n",
    "                embeddings = outputs.last_hidden_state[:, 0, :]\n",
    "                all_embeddings.append(embeddings.cpu())\n",
    "\n",
    "        return torch.cat(all_embeddings, dim=0)\n",
    "\n",
    "    def predict(self, texts, batch_size=8):\n",
    "        embeddings = self.get_embeddings(texts)\n",
    "        with torch.no_grad():\n",
    "            logits = self.classifier(embeddings.to(self.device))\n",
    "            predictions = torch.argmax(logits, dim=1)\n",
    "        return predictions.cpu().numpy()"
   ]
  },
  {
   "cell_type": "code",
   "execution_count": null,
   "id": "9310906ce0afc0c8",
   "metadata": {},
   "outputs": [],
   "source": [
    "def evaluate_models(X_test, y_test, df_new, le):\n",
    "    model_configs = {\n",
    "        \"BERT\": \"bert-base-uncased\",\n",
    "        \"SciBERT\": \"allenai/scibert_scivocab_uncased\",\n",
    "    }\n",
    "\n",
    "    results = {}\n",
    "\n",
    "    if scipy.sparse.issparse(X_test):\n",
    "        X_test = X_test.toarray()\n",
    "\n",
    "    for model_name, model_path in model_configs.items():\n",
    "        print(f\"\\nEvaluating {model_name}...\")\n",
    "\n",
    "        # Initialize classifier\n",
    "        classifier = TransformerClassifier(model_path, num_labels=len(le.classes_))\n",
    "\n",
    "        # Get predictions for test set\n",
    "        y_pred_test = classifier.predict(X_test)\n",
    "\n",
    "        # Get predictions for new data\n",
    "        y_pred_new = classifier.predict(df_new[\"text\"])\n",
    "\n",
    "        # Convert numeric predictions back to category labels\n",
    "        y_pred_test_labels = le.inverse_transform(y_pred_test)\n",
    "        y_pred_new_labels = le.inverse_transform(y_pred_new)\n",
    "\n",
    "        results[model_name] = {\n",
    "            \"test_report\": classification_report(\n",
    "                le.inverse_transform(y_test), y_pred_test_labels, zero_division=0\n",
    "            ),\n",
    "            \"predictions\": y_pred_new_labels,\n",
    "        }\n",
    "\n",
    "        # Store predictions in dataframe\n",
    "        df_new[f\"{model_name}_predicted\"] = y_pred_new_labels\n",
    "\n",
    "    return results"
   ]
  },
  {
   "cell_type": "code",
   "execution_count": 37,
   "id": "9b620f52-ad39-4875-9402-1ee273b4439c",
   "metadata": {},
   "outputs": [
    {
     "name": "stdout",
     "output_type": "stream",
     "text": [
      "\n",
      "Evaluating BERT...\n"
     ]
    },
    {
     "name": "stderr",
     "output_type": "stream",
     "text": [
      "/Users/nitingupta/miniconda3/envs/lit-cat/lib/python3.8/site-packages/transformers/tokenization_utils_base.py:1601: FutureWarning: `clean_up_tokenization_spaces` was not set. It will be set to `True` by default. This behavior will be depracted in transformers v4.45, and will be then set to `False` by default. For more details check this issue: https://github.com/huggingface/transformers/issues/31884\n",
      "  warnings.warn(\n",
      "Getting embeddings: 100%|██████████████████████████████████████████████████████████████████████████████████████████████████████████████████████████████████████████████████████████| 3/3 [00:04<00:00,  1.66s/it]\n",
      "Getting embeddings: 100%|██████████████████████████████████████████████████████████████████████████████████████████████████████████████████████████████████████████████████████████| 6/6 [00:08<00:00,  1.40s/it]\n"
     ]
    },
    {
     "name": "stdout",
     "output_type": "stream",
     "text": [
      "\n",
      "Evaluating SciBERT...\n"
     ]
    },
    {
     "name": "stderr",
     "output_type": "stream",
     "text": [
      "/Users/nitingupta/miniconda3/envs/lit-cat/lib/python3.8/site-packages/transformers/tokenization_utils_base.py:1601: FutureWarning: `clean_up_tokenization_spaces` was not set. It will be set to `True` by default. This behavior will be depracted in transformers v4.45, and will be then set to `False` by default. For more details check this issue: https://github.com/huggingface/transformers/issues/31884\n",
      "  warnings.warn(\n",
      "Getting embeddings: 100%|██████████████████████████████████████████████████████████████████████████████████████████████████████████████████████████████████████████████████████████| 3/3 [00:04<00:00,  1.43s/it]\n",
      "Getting embeddings: 100%|██████████████████████████████████████████████████████████████████████████████████████████████████████████████████████████████████████████████████████████| 6/6 [00:09<00:00,  1.51s/it]\n"
     ]
    }
   ],
   "source": [
    "# Now evaluate the models using the test set we created earlier\n",
    "results = evaluate_models(X_test, y_test, df_new, le)"
   ]
  },
  {
   "cell_type": "code",
   "execution_count": null,
   "id": "46170c5b-2b45-4d75-a764-d80bf51cf6e9",
   "metadata": {},
   "outputs": [],
   "source": [
    "def get_detailed_metrics(y_true, y_pred):\n",
    "    accuracy = accuracy_score(y_true, y_pred)\n",
    "    precision_micro, recall_micro, f1_micro, _ = precision_recall_fscore_support(\n",
    "        y_true, y_pred, average=\"micro\"\n",
    "    )\n",
    "    precision_macro, recall_macro, f1_macro, _ = precision_recall_fscore_support(\n",
    "        y_true, y_pred, average=\"macro\"\n",
    "    )\n",
    "\n",
    "    # Get the standard classification report\n",
    "    class_report = classification_report(y_true, y_pred, zero_division=0)\n",
    "\n",
    "    # Add detailed metrics\n",
    "    detailed_metrics = f\"\"\"\n",
    "Classification Report:\n",
    "{class_report}\n",
    "\n",
    "Additional Metrics:\n",
    "Accuracy: {accuracy:.4f}\n",
    "\n",
    "Micro-averaged metrics:\n",
    "Precision: {precision_micro:.4f}\n",
    "Recall: {recall_micro:.4f}\n",
    "F1-score: {f1_micro:.4f}\n",
    "\n",
    "Macro-averaged metrics:\n",
    "Precision: {precision_macro:.4f}\n",
    "Recall: {recall_macro:.4f}\n",
    "F1-score: {f1_macro:.4f}\n",
    "\"\"\"\n",
    "    return detailed_metrics"
   ]
  },
  {
   "cell_type": "code",
   "execution_count": null,
   "id": "b579c46d-9d04-4a3c-8ff8-d1378e102d4f",
   "metadata": {},
   "outputs": [
    {
     "name": "stdout",
     "output_type": "stream",
     "text": [
      "\n",
      "Results for BERT on test set:\n",
      "\n",
      "Classification Report:\n",
      "                         precision    recall  f1-score   support\n",
      "\n",
      "brain-inspired-planning       0.00      0.00      0.00         1\n",
      "heuristics-optimization       0.00      0.00      0.00         1\n",
      "   interactive-planning       0.00      0.00      0.00         4\n",
      "   language-translation       0.13      0.67      0.22         3\n",
      "     model-construction       0.11      0.33      0.17         3\n",
      "    multiagent-planning       0.00      0.00      0.00         1\n",
      "        plan-generation       0.00      0.00      0.00         9\n",
      "       tool-integration       0.00      0.00      0.00         2\n",
      "\n",
      "               accuracy                           0.12        24\n",
      "              macro avg       0.03      0.12      0.05        24\n",
      "           weighted avg       0.03      0.12      0.05        24\n",
      "\n",
      "\n",
      "Additional Metrics:\n",
      "Accuracy: 0.1250\n",
      "\n",
      "Micro-averaged metrics:\n",
      "Precision: 0.1250\n",
      "Recall: 0.1250\n",
      "F1-score: 0.1250\n",
      "\n",
      "Macro-averaged metrics:\n",
      "Precision: 0.0306\n",
      "Recall: 0.1250\n",
      "F1-score: 0.0486\n",
      "\n",
      "\n",
      "Performance on new data for BERT:\n",
      "\n",
      "Classification Report:\n",
      "                         precision    recall  f1-score   support\n",
      "\n",
      "heuristics-optimization       0.00      0.00      0.00         3\n",
      "   interactive-planning       0.00      0.00      0.00         8\n",
      "   language-translation       0.09      0.67      0.15         3\n",
      "     model-construction       0.10      0.29      0.15         7\n",
      "    multiagent-planning       0.00      0.00      0.00         2\n",
      "        plan-generation       0.00      0.00      0.00        13\n",
      "       tool-integration       0.00      0.00      0.00         7\n",
      "\n",
      "               accuracy                           0.09        43\n",
      "              macro avg       0.03      0.14      0.04        43\n",
      "           weighted avg       0.02      0.09      0.03        43\n",
      "\n",
      "\n",
      "Additional Metrics:\n",
      "Accuracy: 0.0930\n",
      "\n",
      "Micro-averaged metrics:\n",
      "Precision: 0.0930\n",
      "Recall: 0.0930\n",
      "F1-score: 0.0930\n",
      "\n",
      "Macro-averaged metrics:\n",
      "Precision: 0.0267\n",
      "Recall: 0.1361\n",
      "F1-score: 0.0431\n",
      "\n",
      "------------------------------\n",
      "\n",
      "Results for SciBERT on test set:\n",
      "\n",
      "Classification Report:\n",
      "                         precision    recall  f1-score   support\n",
      "\n",
      "brain-inspired-planning       0.00      0.00      0.00       1.0\n",
      "heuristics-optimization       0.00      0.00      0.00       1.0\n",
      "   interactive-planning       0.00      0.00      0.00       4.0\n",
      "   language-translation       0.00      0.00      0.00       3.0\n",
      "     model-construction       0.00      0.00      0.00       3.0\n",
      "    multiagent-planning       0.00      0.00      0.00       1.0\n",
      "        plan-generation       0.00      0.00      0.00       9.0\n",
      "       tool-integration       0.00      0.00      0.00       2.0\n",
      "\n",
      "               accuracy                           0.00      24.0\n",
      "              macro avg       0.00      0.00      0.00      24.0\n",
      "           weighted avg       0.00      0.00      0.00      24.0\n",
      "\n",
      "\n",
      "Additional Metrics:\n",
      "Accuracy: 0.0000\n",
      "\n",
      "Micro-averaged metrics:\n",
      "Precision: 0.0000\n",
      "Recall: 0.0000\n",
      "F1-score: 0.0000\n",
      "\n",
      "Macro-averaged metrics:\n",
      "Precision: 0.0000\n",
      "Recall: 0.0000\n",
      "F1-score: 0.0000\n",
      "\n",
      "\n",
      "Performance on new data for SciBERT:\n",
      "\n",
      "Classification Report:\n",
      "                         precision    recall  f1-score   support\n",
      "\n",
      "heuristics-optimization       0.00      0.00      0.00         3\n",
      "   interactive-planning       0.00      0.00      0.00         8\n",
      "   language-translation       0.00      0.00      0.00         3\n",
      "     model-construction       0.00      0.00      0.00         7\n",
      "    multiagent-planning       0.05      1.00      0.09         2\n",
      "        plan-generation       0.00      0.00      0.00        13\n",
      "       tool-integration       0.00      0.00      0.00         7\n",
      "\n",
      "               accuracy                           0.05        43\n",
      "              macro avg       0.01      0.14      0.01        43\n",
      "           weighted avg       0.00      0.05      0.00        43\n",
      "\n",
      "\n",
      "Additional Metrics:\n",
      "Accuracy: 0.0465\n",
      "\n",
      "Micro-averaged metrics:\n",
      "Precision: 0.0465\n",
      "Recall: 0.0465\n",
      "F1-score: 0.0465\n",
      "\n",
      "Macro-averaged metrics:\n",
      "Precision: 0.0068\n",
      "Recall: 0.1429\n",
      "F1-score: 0.0130\n",
      "\n",
      "------------------------------\n"
     ]
    },
    {
     "name": "stderr",
     "output_type": "stream",
     "text": [
      "/Users/nitingupta/miniconda3/envs/lit-cat/lib/python3.8/site-packages/sklearn/metrics/_classification.py:1469: UndefinedMetricWarning: Precision and F-score are ill-defined and being set to 0.0 in labels with no predicted samples. Use `zero_division` parameter to control this behavior.\n",
      "  _warn_prf(average, modifier, msg_start, len(result))\n",
      "/Users/nitingupta/miniconda3/envs/lit-cat/lib/python3.8/site-packages/sklearn/metrics/_classification.py:1469: UndefinedMetricWarning: Precision and F-score are ill-defined and being set to 0.0 in labels with no predicted samples. Use `zero_division` parameter to control this behavior.\n",
      "  _warn_prf(average, modifier, msg_start, len(result))\n",
      "/Users/nitingupta/miniconda3/envs/lit-cat/lib/python3.8/site-packages/sklearn/metrics/_classification.py:1469: UndefinedMetricWarning: Precision and F-score are ill-defined and being set to 0.0 in labels with no predicted samples. Use `zero_division` parameter to control this behavior.\n",
      "  _warn_prf(average, modifier, msg_start, len(result))\n",
      "/Users/nitingupta/miniconda3/envs/lit-cat/lib/python3.8/site-packages/sklearn/metrics/_classification.py:1469: UndefinedMetricWarning: Precision and F-score are ill-defined and being set to 0.0 in labels with no predicted samples. Use `zero_division` parameter to control this behavior.\n",
      "  _warn_prf(average, modifier, msg_start, len(result))\n"
     ]
    }
   ],
   "source": [
    "for model_name, model_data in results.items():\n",
    "    print(f\"\\nResults for {model_name} on test set:\")\n",
    "    print(\n",
    "        get_detailed_metrics(\n",
    "            le.inverse_transform(y_test), model_data[\"predictions\"][: len(y_test)]\n",
    "        )\n",
    "    )\n",
    "\n",
    "    print(f\"\\nPerformance on new data for {model_name}:\")\n",
    "    # Filter out rows where y_new is -1 (unseen categories)\n",
    "    mask = y_new != -1\n",
    "    if mask.any():\n",
    "        print(\n",
    "            get_detailed_metrics(\n",
    "                le.inverse_transform(y_new[mask]), model_data[\"predictions\"][mask]\n",
    "            )\n",
    "        )\n",
    "    else:\n",
    "        print(\"No matching categories found in new data\")\n",
    "\n",
    "    print(\"-\" * 30)"
   ]
  },
  {
   "cell_type": "code",
   "execution_count": 40,
   "id": "20a9858d-b982-4af6-a0b3-4ded429e71d9",
   "metadata": {},
   "outputs": [
    {
     "data": {
      "text/plain": [
       "Index(['Title', 'Authors', 'Published Date', 'Abstract', 'URL', 'Categories',\n",
       "       'Comments', 'text', 'BERT_predicted', 'SciBERT_predicted'],\n",
       "      dtype='object')"
      ]
     },
     "execution_count": 40,
     "metadata": {},
     "output_type": "execute_result"
    }
   ],
   "source": [
    "df_new.columns"
   ]
  },
  {
   "cell_type": "code",
   "execution_count": null,
   "id": "f64d9a5e-7d76-4004-8377-72488a28f83d",
   "metadata": {},
   "outputs": [],
   "source": [
    "# Save results to the same CSV\n",
    "df_new.to_csv(\"../outputs/tf_single_final.csv\", index=False)"
   ]
  }
 ],
 "metadata": {
  "kernelspec": {
   "display_name": "Python 3 (ipykernel)",
   "language": "python",
   "name": "python3"
  },
  "language_info": {
   "codemirror_mode": {
    "name": "ipython",
    "version": 3
   },
   "file_extension": ".py",
   "mimetype": "text/x-python",
   "name": "python",
   "nbconvert_exporter": "python",
   "pygments_lexer": "ipython3",
   "version": "3.8.18"
  }
 },
 "nbformat": 4,
 "nbformat_minor": 5
}

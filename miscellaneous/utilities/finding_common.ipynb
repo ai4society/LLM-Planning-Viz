{
 "cells": [
  {
   "cell_type": "markdown",
   "id": "bf1c9c98-df3f-4796-8fec-36e955966c37",
   "metadata": {},
   "source": [
    "Find the common rows between the old dataset and the new dataset based on the titles"
   ]
  },
  {
   "cell_type": "code",
   "execution_count": 37,
   "id": "1085b385-6467-4be8-a187-d76ed7389119",
   "metadata": {},
   "outputs": [],
   "source": [
    "import pandas as pd\n",
    "pd.options.display.max_colwidth = None"
   ]
  },
  {
   "cell_type": "code",
   "execution_count": null,
   "id": "ff28a4c4-cb8d-4096-b006-225e8cb53c2a",
   "metadata": {},
   "outputs": [
    {
     "data": {
      "text/html": [
       "<div>\n",
       "<style scoped>\n",
       "    .dataframe tbody tr th:only-of-type {\n",
       "        vertical-align: middle;\n",
       "    }\n",
       "\n",
       "    .dataframe tbody tr th {\n",
       "        vertical-align: top;\n",
       "    }\n",
       "\n",
       "    .dataframe thead th {\n",
       "        text-align: right;\n",
       "    }\n",
       "</style>\n",
       "<table border=\"1\" class=\"dataframe\">\n",
       "  <thead>\n",
       "    <tr style=\"text-align: right;\">\n",
       "      <th></th>\n",
       "      <th>title</th>\n",
       "      <th>category</th>\n",
       "      <th>link</th>\n",
       "      <th>authors</th>\n",
       "      <th>year</th>\n",
       "      <th>abstract</th>\n",
       "    </tr>\n",
       "  </thead>\n",
       "  <tbody>\n",
       "    <tr>\n",
       "      <th>0</th>\n",
       "      <td>Llm+ p: Empowering large language models with ...</td>\n",
       "      <td>language-translation</td>\n",
       "      <td>https://arxiv.org/abs/2304.11477</td>\n",
       "      <td>Liu, Bo and Jiang, Yuqian and Zhang, Xiaohan a...</td>\n",
       "      <td>2023</td>\n",
       "      <td>Large language models (LLMs) have demonstrated...</td>\n",
       "    </tr>\n",
       "    <tr>\n",
       "      <th>1</th>\n",
       "      <td>Translating natural language to planning goals...</td>\n",
       "      <td>language-translation</td>\n",
       "      <td>https://arxiv.org/abs/2302.05128</td>\n",
       "      <td>Xie, Yaqi and Yu, Chen and Zhu, Tongyao and Ba...</td>\n",
       "      <td>2023</td>\n",
       "      <td>Recent large language models (LLMs) have demon...</td>\n",
       "    </tr>\n",
       "    <tr>\n",
       "      <th>2</th>\n",
       "      <td>Leveraging Pre-trained Large Language Models t...</td>\n",
       "      <td>language-translation</td>\n",
       "      <td>https://arxiv.org/abs/2305.14909</td>\n",
       "      <td>Guan, Lin and Valmeekam, Karthik and Sreedhara...</td>\n",
       "      <td>2023</td>\n",
       "      <td>There is a growing interest in applying pre-tr...</td>\n",
       "    </tr>\n",
       "    <tr>\n",
       "      <th>3</th>\n",
       "      <td>Learning to reason over scene graphs: a case s...</td>\n",
       "      <td>language-translation</td>\n",
       "      <td>https://arxiv.org/abs/2305.07716</td>\n",
       "      <td>Chalvatzaki, Georgia and Younes, Ali and Nandh...</td>\n",
       "      <td>2023</td>\n",
       "      <td>Long-horizon task planning is essential for th...</td>\n",
       "    </tr>\n",
       "    <tr>\n",
       "      <th>4</th>\n",
       "      <td>Coupling Large Language Models with Logic Prog...</td>\n",
       "      <td>language-translation</td>\n",
       "      <td>https://arxiv.org/abs/2307.07696</td>\n",
       "      <td>Yang, Zhun and Ishay, Adam and Lee, Joohyung</td>\n",
       "      <td>2023</td>\n",
       "      <td>While large language models (LLMs), such as GP...</td>\n",
       "    </tr>\n",
       "  </tbody>\n",
       "</table>\n",
       "</div>"
      ],
      "text/plain": [
       "                                               title              category  \\\n",
       "0  Llm+ p: Empowering large language models with ...  language-translation   \n",
       "1  Translating natural language to planning goals...  language-translation   \n",
       "2  Leveraging Pre-trained Large Language Models t...  language-translation   \n",
       "3  Learning to reason over scene graphs: a case s...  language-translation   \n",
       "4  Coupling Large Language Models with Logic Prog...  language-translation   \n",
       "\n",
       "                               link  \\\n",
       "0  https://arxiv.org/abs/2304.11477   \n",
       "1  https://arxiv.org/abs/2302.05128   \n",
       "2  https://arxiv.org/abs/2305.14909   \n",
       "3  https://arxiv.org/abs/2305.07716   \n",
       "4  https://arxiv.org/abs/2307.07696   \n",
       "\n",
       "                                             authors  year  \\\n",
       "0  Liu, Bo and Jiang, Yuqian and Zhang, Xiaohan a...  2023   \n",
       "1  Xie, Yaqi and Yu, Chen and Zhu, Tongyao and Ba...  2023   \n",
       "2  Guan, Lin and Valmeekam, Karthik and Sreedhara...  2023   \n",
       "3  Chalvatzaki, Georgia and Younes, Ali and Nandh...  2023   \n",
       "4       Yang, Zhun and Ishay, Adam and Lee, Joohyung  2023   \n",
       "\n",
       "                                            abstract  \n",
       "0  Large language models (LLMs) have demonstrated...  \n",
       "1  Recent large language models (LLMs) have demon...  \n",
       "2  There is a growing interest in applying pre-tr...  \n",
       "3  Long-horizon task planning is essential for th...  \n",
       "4  While large language models (LLMs), such as GP...  "
      ]
     },
     "metadata": {},
     "output_type": "display_data"
    },
    {
     "name": "stdout",
     "output_type": "stream",
     "text": [
      "140\n"
     ]
    }
   ],
   "source": [
    "old = pd.read_json(\"../data/updated_papers_data.json\")\n",
    "display(old.head())\n",
    "print(old.shape[0])"
   ]
  },
  {
   "cell_type": "code",
   "execution_count": null,
   "id": "dd350505-ff1a-45ac-945f-b28e61fc9219",
   "metadata": {},
   "outputs": [
    {
     "data": {
      "text/html": [
       "<div>\n",
       "<style scoped>\n",
       "    .dataframe tbody tr th:only-of-type {\n",
       "        vertical-align: middle;\n",
       "    }\n",
       "\n",
       "    .dataframe tbody tr th {\n",
       "        vertical-align: top;\n",
       "    }\n",
       "\n",
       "    .dataframe thead th {\n",
       "        text-align: right;\n",
       "    }\n",
       "</style>\n",
       "<table border=\"1\" class=\"dataframe\">\n",
       "  <thead>\n",
       "    <tr style=\"text-align: right;\">\n",
       "      <th></th>\n",
       "      <th>ID</th>\n",
       "      <th>Title</th>\n",
       "      <th>Authors</th>\n",
       "      <th>Published Date</th>\n",
       "      <th>Abstract</th>\n",
       "      <th>URL</th>\n",
       "      <th>Categories</th>\n",
       "    </tr>\n",
       "  </thead>\n",
       "  <tbody>\n",
       "    <tr>\n",
       "      <th>0</th>\n",
       "      <td>http://arxiv.org/abs/2409.01806v1</td>\n",
       "      <td>LASP: Surveying the State-of-the-Art in Large ...</td>\n",
       "      <td>Haoming Li, Zhaoliang Chen, Jonathan Zhang, Fe...</td>\n",
       "      <td>2024-09-03</td>\n",
       "      <td>Effective planning is essential for the succes...</td>\n",
       "      <td>http://arxiv.org/abs/2409.01806v1</td>\n",
       "      <td>cs.AI, cs.CL, cs.LG</td>\n",
       "    </tr>\n",
       "    <tr>\n",
       "      <th>1</th>\n",
       "      <td>http://arxiv.org/abs/2407.03321v1</td>\n",
       "      <td>Planetarium: A Rigorous Benchmark for Translat...</td>\n",
       "      <td>Max Zuo, Francisco Piedrahita Velez, Xiaochen ...</td>\n",
       "      <td>2024-07-03</td>\n",
       "      <td>Many recent works have explored using language...</td>\n",
       "      <td>http://arxiv.org/abs/2407.03321v1</td>\n",
       "      <td>cs.CL, cs.AI, cs.LG</td>\n",
       "    </tr>\n",
       "    <tr>\n",
       "      <th>2</th>\n",
       "      <td>http://arxiv.org/abs/2406.15609v2</td>\n",
       "      <td>Automated radiotherapy treatment planning guid...</td>\n",
       "      <td>Sheng Liu, Oscar Pastor-Serrano, Yizheng Chen,...</td>\n",
       "      <td>2024-06-21</td>\n",
       "      <td>Radiotherapy treatment planning is a time-cons...</td>\n",
       "      <td>http://arxiv.org/abs/2406.15609v2</td>\n",
       "      <td>physics.med-ph, cs.AI</td>\n",
       "    </tr>\n",
       "    <tr>\n",
       "      <th>3</th>\n",
       "      <td>http://arxiv.org/abs/2406.11132v1</td>\n",
       "      <td>RePrompt: Planning by Automatic Prompt Enginee...</td>\n",
       "      <td>Weizhe Chen, Sven Koenig, Bistra Dilkina</td>\n",
       "      <td>2024-06-17</td>\n",
       "      <td>In this past year, large language models (LLMs...</td>\n",
       "      <td>http://arxiv.org/abs/2406.11132v1</td>\n",
       "      <td>cs.CL, cs.AI, cs.LG</td>\n",
       "    </tr>\n",
       "    <tr>\n",
       "      <th>4</th>\n",
       "      <td>http://arxiv.org/abs/2406.09953v2</td>\n",
       "      <td>DAG-Plan: Generating Directed Acyclic Dependen...</td>\n",
       "      <td>Zeyu Gao, Yao Mu, Jinye Qu, Mengkang Hu, Lingy...</td>\n",
       "      <td>2024-06-14</td>\n",
       "      <td>Dual-arm robots offer enhanced versatility and...</td>\n",
       "      <td>http://arxiv.org/abs/2406.09953v2</td>\n",
       "      <td>cs.RO, cs.AI</td>\n",
       "    </tr>\n",
       "  </tbody>\n",
       "</table>\n",
       "</div>"
      ],
      "text/plain": [
       "                                  ID  \\\n",
       "0  http://arxiv.org/abs/2409.01806v1   \n",
       "1  http://arxiv.org/abs/2407.03321v1   \n",
       "2  http://arxiv.org/abs/2406.15609v2   \n",
       "3  http://arxiv.org/abs/2406.11132v1   \n",
       "4  http://arxiv.org/abs/2406.09953v2   \n",
       "\n",
       "                                               Title  \\\n",
       "0  LASP: Surveying the State-of-the-Art in Large ...   \n",
       "1  Planetarium: A Rigorous Benchmark for Translat...   \n",
       "2  Automated radiotherapy treatment planning guid...   \n",
       "3  RePrompt: Planning by Automatic Prompt Enginee...   \n",
       "4  DAG-Plan: Generating Directed Acyclic Dependen...   \n",
       "\n",
       "                                             Authors Published Date  \\\n",
       "0  Haoming Li, Zhaoliang Chen, Jonathan Zhang, Fe...     2024-09-03   \n",
       "1  Max Zuo, Francisco Piedrahita Velez, Xiaochen ...     2024-07-03   \n",
       "2  Sheng Liu, Oscar Pastor-Serrano, Yizheng Chen,...     2024-06-21   \n",
       "3           Weizhe Chen, Sven Koenig, Bistra Dilkina     2024-06-17   \n",
       "4  Zeyu Gao, Yao Mu, Jinye Qu, Mengkang Hu, Lingy...     2024-06-14   \n",
       "\n",
       "                                            Abstract  \\\n",
       "0  Effective planning is essential for the succes...   \n",
       "1  Many recent works have explored using language...   \n",
       "2  Radiotherapy treatment planning is a time-cons...   \n",
       "3  In this past year, large language models (LLMs...   \n",
       "4  Dual-arm robots offer enhanced versatility and...   \n",
       "\n",
       "                                 URL             Categories  \n",
       "0  http://arxiv.org/abs/2409.01806v1    cs.AI, cs.CL, cs.LG  \n",
       "1  http://arxiv.org/abs/2407.03321v1    cs.CL, cs.AI, cs.LG  \n",
       "2  http://arxiv.org/abs/2406.15609v2  physics.med-ph, cs.AI  \n",
       "3  http://arxiv.org/abs/2406.11132v1    cs.CL, cs.AI, cs.LG  \n",
       "4  http://arxiv.org/abs/2406.09953v2           cs.RO, cs.AI  "
      ]
     },
     "metadata": {},
     "output_type": "display_data"
    },
    {
     "name": "stdout",
     "output_type": "stream",
     "text": [
      "51\n"
     ]
    }
   ],
   "source": [
    "new_1 = pd.read_csv(\"../data/all_arxiv_papers_20240925_171114 (1).csv\")\n",
    "display(new_1.head())\n",
    "print(new_1.shape[0])"
   ]
  },
  {
   "cell_type": "code",
   "execution_count": 23,
   "id": "297a9e85-ec2b-42ab-af47-46378435ddc5",
   "metadata": {},
   "outputs": [
    {
     "data": {
      "text/plain": [
       "Index(['ID', 'Title', 'Authors', 'Published Date', 'Abstract', 'URL',\n",
       "       'Categories'],\n",
       "      dtype='object')"
      ]
     },
     "execution_count": 23,
     "metadata": {},
     "output_type": "execute_result"
    }
   ],
   "source": [
    "new_1.columns"
   ]
  },
  {
   "cell_type": "code",
   "execution_count": 25,
   "id": "99afff09-d162-40c6-ab2e-d387c10aec60",
   "metadata": {},
   "outputs": [
    {
     "data": {
      "text/plain": [
       "True"
      ]
     },
     "execution_count": 25,
     "metadata": {},
     "output_type": "execute_result"
    }
   ],
   "source": [
    "new_1.drop([\"ID\"], axis=1).equals(new_2)"
   ]
  },
  {
   "cell_type": "code",
   "execution_count": null,
   "id": "36df9bc5-fb30-4c18-93fc-532e4b1a91d0",
   "metadata": {},
   "outputs": [
    {
     "data": {
      "text/html": [
       "<div>\n",
       "<style scoped>\n",
       "    .dataframe tbody tr th:only-of-type {\n",
       "        vertical-align: middle;\n",
       "    }\n",
       "\n",
       "    .dataframe tbody tr th {\n",
       "        vertical-align: top;\n",
       "    }\n",
       "\n",
       "    .dataframe thead th {\n",
       "        text-align: right;\n",
       "    }\n",
       "</style>\n",
       "<table border=\"1\" class=\"dataframe\">\n",
       "  <thead>\n",
       "    <tr style=\"text-align: right;\">\n",
       "      <th></th>\n",
       "      <th>Title</th>\n",
       "      <th>Authors</th>\n",
       "      <th>Published Date</th>\n",
       "      <th>Abstract</th>\n",
       "      <th>URL</th>\n",
       "      <th>Categories</th>\n",
       "    </tr>\n",
       "  </thead>\n",
       "  <tbody>\n",
       "    <tr>\n",
       "      <th>0</th>\n",
       "      <td>LASP: Surveying the State-of-the-Art in Large ...</td>\n",
       "      <td>Haoming Li, Zhaoliang Chen, Jonathan Zhang, Fe...</td>\n",
       "      <td>2024-09-03</td>\n",
       "      <td>Effective planning is essential for the succes...</td>\n",
       "      <td>http://arxiv.org/abs/2409.01806v1</td>\n",
       "      <td>cs.AI, cs.CL, cs.LG</td>\n",
       "    </tr>\n",
       "    <tr>\n",
       "      <th>1</th>\n",
       "      <td>Planetarium: A Rigorous Benchmark for Translat...</td>\n",
       "      <td>Max Zuo, Francisco Piedrahita Velez, Xiaochen ...</td>\n",
       "      <td>2024-07-03</td>\n",
       "      <td>Many recent works have explored using language...</td>\n",
       "      <td>http://arxiv.org/abs/2407.03321v1</td>\n",
       "      <td>cs.CL, cs.AI, cs.LG</td>\n",
       "    </tr>\n",
       "    <tr>\n",
       "      <th>2</th>\n",
       "      <td>Automated radiotherapy treatment planning guid...</td>\n",
       "      <td>Sheng Liu, Oscar Pastor-Serrano, Yizheng Chen,...</td>\n",
       "      <td>2024-06-21</td>\n",
       "      <td>Radiotherapy treatment planning is a time-cons...</td>\n",
       "      <td>http://arxiv.org/abs/2406.15609v2</td>\n",
       "      <td>physics.med-ph, cs.AI</td>\n",
       "    </tr>\n",
       "    <tr>\n",
       "      <th>3</th>\n",
       "      <td>RePrompt: Planning by Automatic Prompt Enginee...</td>\n",
       "      <td>Weizhe Chen, Sven Koenig, Bistra Dilkina</td>\n",
       "      <td>2024-06-17</td>\n",
       "      <td>In this past year, large language models (LLMs...</td>\n",
       "      <td>http://arxiv.org/abs/2406.11132v1</td>\n",
       "      <td>cs.CL, cs.AI, cs.LG</td>\n",
       "    </tr>\n",
       "    <tr>\n",
       "      <th>4</th>\n",
       "      <td>DAG-Plan: Generating Directed Acyclic Dependen...</td>\n",
       "      <td>Zeyu Gao, Yao Mu, Jinye Qu, Mengkang Hu, Lingy...</td>\n",
       "      <td>2024-06-14</td>\n",
       "      <td>Dual-arm robots offer enhanced versatility and...</td>\n",
       "      <td>http://arxiv.org/abs/2406.09953v2</td>\n",
       "      <td>cs.RO, cs.AI</td>\n",
       "    </tr>\n",
       "  </tbody>\n",
       "</table>\n",
       "</div>"
      ],
      "text/plain": [
       "                                               Title  \\\n",
       "0  LASP: Surveying the State-of-the-Art in Large ...   \n",
       "1  Planetarium: A Rigorous Benchmark for Translat...   \n",
       "2  Automated radiotherapy treatment planning guid...   \n",
       "3  RePrompt: Planning by Automatic Prompt Enginee...   \n",
       "4  DAG-Plan: Generating Directed Acyclic Dependen...   \n",
       "\n",
       "                                             Authors Published Date  \\\n",
       "0  Haoming Li, Zhaoliang Chen, Jonathan Zhang, Fe...     2024-09-03   \n",
       "1  Max Zuo, Francisco Piedrahita Velez, Xiaochen ...     2024-07-03   \n",
       "2  Sheng Liu, Oscar Pastor-Serrano, Yizheng Chen,...     2024-06-21   \n",
       "3           Weizhe Chen, Sven Koenig, Bistra Dilkina     2024-06-17   \n",
       "4  Zeyu Gao, Yao Mu, Jinye Qu, Mengkang Hu, Lingy...     2024-06-14   \n",
       "\n",
       "                                            Abstract  \\\n",
       "0  Effective planning is essential for the succes...   \n",
       "1  Many recent works have explored using language...   \n",
       "2  Radiotherapy treatment planning is a time-cons...   \n",
       "3  In this past year, large language models (LLMs...   \n",
       "4  Dual-arm robots offer enhanced versatility and...   \n",
       "\n",
       "                                 URL             Categories  \n",
       "0  http://arxiv.org/abs/2409.01806v1    cs.AI, cs.CL, cs.LG  \n",
       "1  http://arxiv.org/abs/2407.03321v1    cs.CL, cs.AI, cs.LG  \n",
       "2  http://arxiv.org/abs/2406.15609v2  physics.med-ph, cs.AI  \n",
       "3  http://arxiv.org/abs/2406.11132v1    cs.CL, cs.AI, cs.LG  \n",
       "4  http://arxiv.org/abs/2406.09953v2           cs.RO, cs.AI  "
      ]
     },
     "metadata": {},
     "output_type": "display_data"
    },
    {
     "name": "stdout",
     "output_type": "stream",
     "text": [
      "51\n"
     ]
    }
   ],
   "source": [
    "new_2 = pd.read_csv(\"../data/all_arxiv_papers_20240925_171114.csv\")\n",
    "display(new_2.head())\n",
    "print(new_2.shape[0])"
   ]
  },
  {
   "cell_type": "code",
   "execution_count": 30,
   "id": "4504c7b7-d650-4b5d-a6fe-4009a7715749",
   "metadata": {},
   "outputs": [],
   "source": [
    "old_names = old[\"title\"]\n",
    "new_names = new_2[\"Title\"]"
   ]
  },
  {
   "cell_type": "code",
   "execution_count": 40,
   "id": "1bbaf315-1b78-4c46-8c64-d65dab453920",
   "metadata": {},
   "outputs": [
    {
     "data": {
      "text/plain": [
       "0                                      Understanding the Capabilities of Large Language Models for Automated Planning\n",
       "1                           SayCanPay: Heuristic Planning with Large Language Models using Learnable Domain Knowledge\n",
       "2    Leveraging Pre-trained Large Language Models to Construct and Utilize World Models for Model-based Task Planning\n",
       "3                                          Generalized Planning in PDDL Domains with Pretrained Large Language Models\n",
       "4                      ISR-LLM: Iterative Self-Refined Large Language Model for Long-Horizon Sequential Task Planning\n",
       "dtype: object"
      ]
     },
     "execution_count": 40,
     "metadata": {},
     "output_type": "execute_result"
    }
   ],
   "source": [
    "pd.Series(list(set(old_names) & set(new_names)))"
   ]
  }
 ],
 "metadata": {
  "kernelspec": {
   "display_name": "Python 3 (ipykernel)",
   "language": "python",
   "name": "python3"
  },
  "language_info": {
   "codemirror_mode": {
    "name": "ipython",
    "version": 3
   },
   "file_extension": ".py",
   "mimetype": "text/x-python",
   "name": "python",
   "nbconvert_exporter": "python",
   "pygments_lexer": "ipython3",
   "version": "3.8.18"
  }
 },
 "nbformat": 4,
 "nbformat_minor": 5
}
